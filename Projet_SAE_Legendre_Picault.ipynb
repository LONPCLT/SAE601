{
 "cells": [
  {
   "cell_type": "markdown",
   "id": "43e65f44-f8aa-4102-9fa9-f78f7e26f765",
   "metadata": {},
   "source": [
    "Picault Elowen\n",
    "\n",
    "Legendre Clémence"
   ]
  },
  {
   "cell_type": "code",
   "execution_count": 1,
   "id": "c662a3d4",
   "metadata": {
    "scrolled": true
   },
   "outputs": [
    {
     "name": "stderr",
     "output_type": "stream",
     "text": [
      "C:\\Users\\e2201387\\AppData\\local\\Temp\\ipykernel_2356\\568132765.py:2: DeprecationWarning: Importing display from IPython.core.display is deprecated since IPython 7.14, please import from IPython display\n",
      "  from IPython.core.display import display, HTML\n"
     ]
    },
    {
     "data": {
      "text/html": [
       "<style>.container { width:80% !important; }</style>"
      ],
      "text/plain": [
       "<IPython.core.display.HTML object>"
      ]
     },
     "metadata": {},
     "output_type": "display_data"
    }
   ],
   "source": [
    "# pour changer la largeur de la page htlm générée par Jupyter :\n",
    "from IPython.core.display import display, HTML\n",
    "display(HTML(\"<style>.container { width:80% !important; }</style>\"))"
   ]
  },
  {
   "cell_type": "markdown",
   "id": "f6eff43d",
   "metadata": {},
   "source": [
    "# TP : Exploration et Analyse de Données avec Pandas et Streamlit\n",
    "\n",
    "## Objectif\n",
    "\n",
    "Ce projet vise à développer vos compétences en manipulation et analyse de données à l'aide de la bibliothèque Pandas en Python. Vous apprendrez à :\n",
    "\n",
    "- Importer et explorer des données provenant de Kaggle.\n",
    "- Effectuer des requêtes et manipulations de type SQL avec Pandas.\n",
    "- Créer des visualisations interactives avec Streamlit.\n",
    "\n",
    "Ce projet est noté. Tous les codes devront être écrits en Python dans des champs *jupyter* et devront respecter les conventions de nommage. L'énoncé **ne doit pas être modifié**.\n",
    "\n",
    "La derniere séance du projet, vous déposerez le fichier jupyter (projetSAE.ipynb) sur la plateforme pédagogique.\n"
   ]
  },
  {
   "cell_type": "markdown",
   "id": "3109e372",
   "metadata": {},
   "source": [
    "##### Procédure à réaliser avant les séances de TD (nous utiliserons désormais jupyter lab)\n",
    "- Lancer Anaconda Prompt sous Windows\n",
    "- Saisissez dans Anaconda Prompt : \n",
    "conda create -n projet python pandas numpy matplotlib jupyterlab kagglehub seaborn streamlit plotly\n",
    "\n",
    "=> à la demande \"Proceed ([y]/n)?\" saisissez y (ou juste pressez sur la touche \"entrée\")\n",
    "=> \"Executing transaction\" prend du temps, c'est normal\n",
    "Saisissez dans Anaconda Prompt : \n",
    "conda activate projet\n",
    "\n",
    "##### Saisissez dans Anaconda Prompt : \n",
    "jupyter lab --notebook-dir=\"h:/\"\n",
    "Ouvrir projetSAE.ipynb dans Jupyter"
   ]
  },
  {
   "cell_type": "code",
   "execution_count": 9,
   "id": "5a1b3f02",
   "metadata": {},
   "outputs": [],
   "source": [
    "%matplotlib notebook\n",
    "import os\n",
    "import shutil\n",
    "import pandas as pd\n",
    "import numpy as np\n",
    "import matplotlib.pyplot as plt\n",
    "\n",
    "import seaborn as sns\n",
    "\n",
    "import streamlit as st"
   ]
  },
  {
   "cell_type": "markdown",
   "id": "d57dab67",
   "metadata": {},
   "source": [
    "### Partie 1 : importation et exploration des données"
   ]
  },
  {
   "cell_type": "markdown",
   "id": "33235b70",
   "metadata": {},
   "source": [
    "#### Travailler avec Git\n",
    "1 - En utilisant le prompt conda : initialiser le projet \n",
    "\n",
    "2 - Ajouter le fichier Jupyter Notebook et faite votre premier commit \n",
    " \n",
    "3 -  Creer un projet sur github dépôt distant (sans README.md )\n",
    "\n",
    "4 - Pousser le projet vers ce dépôt \n",
    "\n",
    "5 - Enlever les checkpoint de jupyter "
   ]
  },
  {
   "cell_type": "markdown",
   "id": "8b18bb17",
   "metadata": {},
   "source": [
    "#### Questions\n",
    "1. Téléchargez le Dataset **Data Science Salaries 2023** sur Kaggle (https://www.kaggle.com/datasets/) via **kagglehub**.\n",
    "2. Copier le fichier du cache au répertoire du projet, décompresser et visualiser le fichier CSV **ds_salaries.csv**\n",
    "3. Importez le fichiers CSV avec Pandas."
   ]
  },
  {
   "cell_type": "markdown",
   "id": "b01f9ad7",
   "metadata": {},
   "source": [
    "##### Votre code"
   ]
  },
  {
   "cell_type": "code",
   "execution_count": 2,
   "id": "b81cdc79",
   "metadata": {},
   "outputs": [
    {
     "name": "stdout",
     "output_type": "stream",
     "text": [
      "      work_year experience_level employment_type                 job_title  \\\n",
      "0          2023               SE              FT  Principal Data Scientist   \n",
      "1          2023               MI              CT               ML Engineer   \n",
      "2          2023               MI              CT               ML Engineer   \n",
      "3          2023               SE              FT            Data Scientist   \n",
      "4          2023               SE              FT            Data Scientist   \n",
      "...         ...              ...             ...                       ...   \n",
      "3750       2020               SE              FT            Data Scientist   \n",
      "3751       2021               MI              FT  Principal Data Scientist   \n",
      "3752       2020               EN              FT            Data Scientist   \n",
      "3753       2020               EN              CT     Business Data Analyst   \n",
      "3754       2021               SE              FT      Data Science Manager   \n",
      "\n",
      "       salary salary_currency  salary_in_usd employee_residence  remote_ratio  \\\n",
      "0       80000             EUR          85847                 ES           100   \n",
      "1       30000             USD          30000                 US           100   \n",
      "2       25500             USD          25500                 US           100   \n",
      "3      175000             USD         175000                 CA           100   \n",
      "4      120000             USD         120000                 CA           100   \n",
      "...       ...             ...            ...                ...           ...   \n",
      "3750   412000             USD         412000                 US           100   \n",
      "3751   151000             USD         151000                 US           100   \n",
      "3752   105000             USD         105000                 US           100   \n",
      "3753   100000             USD         100000                 US           100   \n",
      "3754  7000000             INR          94665                 IN            50   \n",
      "\n",
      "     company_location company_size  \n",
      "0                  ES            L  \n",
      "1                  US            S  \n",
      "2                  US            S  \n",
      "3                  CA            M  \n",
      "4                  CA            M  \n",
      "...               ...          ...  \n",
      "3750               US            L  \n",
      "3751               US            L  \n",
      "3752               US            S  \n",
      "3753               US            L  \n",
      "3754               IN            L  \n",
      "\n",
      "[3755 rows x 11 columns]\n"
     ]
    }
   ],
   "source": [
    "import pandas as pd\n",
    "import seaborn as sns\n",
    "import matplotlib.pyplot as plt\n",
    "\n",
    "# Lire le fichier CSV dans un DataFrame\n",
    "df = pd.read_csv('ds_salaries.csv')\n",
    "\n",
    "# Afficher le contenu du DataFrame\n",
    "print(df)"
   ]
  },
  {
   "cell_type": "markdown",
   "id": "a3c026f0",
   "metadata": {},
   "source": [
    "##### Une bonne pratique \n",
    "- Copier les données téléchargées et les coller dans le répertoire du projet.\n",
    "Pour cela, utilisez la bibliothéque os et shutil"
   ]
  },
  {
   "cell_type": "code",
   "execution_count": 10,
   "id": "ff8da337",
   "metadata": {},
   "outputs": [
    {
     "ename": "NameError",
     "evalue": "name 'project_dir' is not defined",
     "output_type": "error",
     "traceback": [
      "\u001b[1;31m---------------------------------------------------------------------------\u001b[0m",
      "\u001b[1;31mNameError\u001b[0m                                 Traceback (most recent call last)",
      "Cell \u001b[1;32mIn[10], line 5\u001b[0m\n\u001b[0;32m      1\u001b[0m \u001b[38;5;66;03m# Répertoire cible dans votre projet\u001b[39;00m\n\u001b[0;32m      2\u001b[0m \u001b[38;5;66;03m#project_dir = r\".....\"\u001b[39;00m\n\u001b[0;32m      3\u001b[0m \n\u001b[0;32m      4\u001b[0m \u001b[38;5;66;03m# Créer le répertoire (si nécessaire)\u001b[39;00m\n\u001b[1;32m----> 5\u001b[0m os\u001b[38;5;241m.\u001b[39mmakedirs(project_dir, exist_ok\u001b[38;5;241m=\u001b[39m\u001b[38;5;28;01mTrue\u001b[39;00m)\n\u001b[0;32m      7\u001b[0m \u001b[38;5;66;03m# Copier le fichier depuis le cache au répertoire du projet\u001b[39;00m\n\u001b[0;32m      8\u001b[0m \u001b[38;5;66;03m#cache_file = r\"..........ds_salaries.csv\"\u001b[39;00m\n\u001b[0;32m      9\u001b[0m shutil\u001b[38;5;241m.\u001b[39mcopy(cache_file, project_dir)\n",
      "\u001b[1;31mNameError\u001b[0m: name 'project_dir' is not defined"
     ]
    }
   ],
   "source": [
    "# Répertoire cible dans votre projet\n",
    "#project_dir = r\".....\"\n",
    "\n",
    "# Créer le répertoire (si nécessaire)\n",
    "os.makedirs(project_dir, exist_ok=True)\n",
    "\n",
    "# Copier le fichier depuis le cache au répertoire du projet\n",
    "#cache_file = r\"..........ds_salaries.csv\"\n",
    "shutil.copy(cache_file, project_dir)"
   ]
  },
  {
   "cell_type": "code",
   "execution_count": 2,
   "id": "c150ef82",
   "metadata": {},
   "outputs": [
    {
     "data": {
      "text/html": [
       "<div>\n",
       "<style scoped>\n",
       "    .dataframe tbody tr th:only-of-type {\n",
       "        vertical-align: middle;\n",
       "    }\n",
       "\n",
       "    .dataframe tbody tr th {\n",
       "        vertical-align: top;\n",
       "    }\n",
       "\n",
       "    .dataframe thead th {\n",
       "        text-align: right;\n",
       "    }\n",
       "</style>\n",
       "<table border=\"1\" class=\"dataframe\">\n",
       "  <thead>\n",
       "    <tr style=\"text-align: right;\">\n",
       "      <th></th>\n",
       "      <th>work_year</th>\n",
       "      <th>experience_level</th>\n",
       "      <th>employment_type</th>\n",
       "      <th>job_title</th>\n",
       "      <th>salary</th>\n",
       "      <th>salary_currency</th>\n",
       "      <th>salary_in_usd</th>\n",
       "      <th>employee_residence</th>\n",
       "      <th>remote_ratio</th>\n",
       "      <th>company_location</th>\n",
       "      <th>company_size</th>\n",
       "    </tr>\n",
       "  </thead>\n",
       "  <tbody>\n",
       "    <tr>\n",
       "      <th>0</th>\n",
       "      <td>2023</td>\n",
       "      <td>SE</td>\n",
       "      <td>FT</td>\n",
       "      <td>Principal Data Scientist</td>\n",
       "      <td>80000</td>\n",
       "      <td>EUR</td>\n",
       "      <td>85847</td>\n",
       "      <td>ES</td>\n",
       "      <td>100</td>\n",
       "      <td>ES</td>\n",
       "      <td>L</td>\n",
       "    </tr>\n",
       "    <tr>\n",
       "      <th>1</th>\n",
       "      <td>2023</td>\n",
       "      <td>MI</td>\n",
       "      <td>CT</td>\n",
       "      <td>ML Engineer</td>\n",
       "      <td>30000</td>\n",
       "      <td>USD</td>\n",
       "      <td>30000</td>\n",
       "      <td>US</td>\n",
       "      <td>100</td>\n",
       "      <td>US</td>\n",
       "      <td>S</td>\n",
       "    </tr>\n",
       "    <tr>\n",
       "      <th>2</th>\n",
       "      <td>2023</td>\n",
       "      <td>MI</td>\n",
       "      <td>CT</td>\n",
       "      <td>ML Engineer</td>\n",
       "      <td>25500</td>\n",
       "      <td>USD</td>\n",
       "      <td>25500</td>\n",
       "      <td>US</td>\n",
       "      <td>100</td>\n",
       "      <td>US</td>\n",
       "      <td>S</td>\n",
       "    </tr>\n",
       "    <tr>\n",
       "      <th>3</th>\n",
       "      <td>2023</td>\n",
       "      <td>SE</td>\n",
       "      <td>FT</td>\n",
       "      <td>Data Scientist</td>\n",
       "      <td>175000</td>\n",
       "      <td>USD</td>\n",
       "      <td>175000</td>\n",
       "      <td>CA</td>\n",
       "      <td>100</td>\n",
       "      <td>CA</td>\n",
       "      <td>M</td>\n",
       "    </tr>\n",
       "    <tr>\n",
       "      <th>4</th>\n",
       "      <td>2023</td>\n",
       "      <td>SE</td>\n",
       "      <td>FT</td>\n",
       "      <td>Data Scientist</td>\n",
       "      <td>120000</td>\n",
       "      <td>USD</td>\n",
       "      <td>120000</td>\n",
       "      <td>CA</td>\n",
       "      <td>100</td>\n",
       "      <td>CA</td>\n",
       "      <td>M</td>\n",
       "    </tr>\n",
       "  </tbody>\n",
       "</table>\n",
       "</div>"
      ],
      "text/plain": [
       "   work_year experience_level employment_type                 job_title  \\\n",
       "0       2023               SE              FT  Principal Data Scientist   \n",
       "1       2023               MI              CT               ML Engineer   \n",
       "2       2023               MI              CT               ML Engineer   \n",
       "3       2023               SE              FT            Data Scientist   \n",
       "4       2023               SE              FT            Data Scientist   \n",
       "\n",
       "   salary salary_currency  salary_in_usd employee_residence  remote_ratio  \\\n",
       "0   80000             EUR          85847                 ES           100   \n",
       "1   30000             USD          30000                 US           100   \n",
       "2   25500             USD          25500                 US           100   \n",
       "3  175000             USD         175000                 CA           100   \n",
       "4  120000             USD         120000                 CA           100   \n",
       "\n",
       "  company_location company_size  \n",
       "0               ES            L  \n",
       "1               US            S  \n",
       "2               US            S  \n",
       "3               CA            M  \n",
       "4               CA            M  "
      ]
     },
     "execution_count": 2,
     "metadata": {},
     "output_type": "execute_result"
    }
   ],
   "source": [
    "# Lire le fichier depuis le répertoire du projet\n"
   ]
  },
  {
   "cell_type": "markdown",
   "id": "6beae70c",
   "metadata": {},
   "source": [
    "### Partie 2 : Analyses exploratoires"
   ]
  },
  {
   "cell_type": "markdown",
   "id": "2e561960",
   "metadata": {},
   "source": [
    "#### Question 1 :\n",
    "Nous Souhaitons :\n",
    "\n",
    "1. Connaitre est ce qu'il y a des données manquantes dans notre dataset.\n",
    "2. Voir la distribution des salaires en USD avec la bibliothèque seaborn sous fome d'histogramme\n",
    "3. avoir la liste des pays concerné par l'étude \n",
    "4. connaitre les salaire moyen par rôle, par pays, par niveau d'expérience"
   ]
  },
  {
   "cell_type": "markdown",
   "id": "e3d1bfbe",
   "metadata": {},
   "source": [
    "#### Votre code"
   ]
  },
  {
   "cell_type": "code",
   "execution_count": 33,
   "id": "89c1a8fd-8290-45f4-bc99-e541f6051118",
   "metadata": {},
   "outputs": [
    {
     "name": "stdout",
     "output_type": "stream",
     "text": [
      "Données manquantes :\n",
      "work_year             0\n",
      "experience_level      0\n",
      "employment_type       0\n",
      "job_title             0\n",
      "salary                0\n",
      "salary_currency       0\n",
      "salary_in_usd         0\n",
      "employee_residence    0\n",
      "remote_ratio          0\n",
      "company_location      0\n",
      "company_size          0\n",
      "salary_range          0\n",
      "dtype: int64\n"
     ]
    }
   ],
   "source": [
    "#données manquantes \n",
    "print(\"Données manquantes :\")\n",
    "print(df.isnull().sum())"
   ]
  },
  {
   "cell_type": "markdown",
   "id": "67600612-62f8-4076-9903-c7b45eaa3ab0",
   "metadata": {},
   "source": [
    "Le jeu de données est complet, sans valeurs manquantes, ce qui permet d'effectuer des analyses directement sans avoir à traiter des données manquantes"
   ]
  },
  {
   "cell_type": "code",
   "execution_count": 11,
   "id": "1be28b55",
   "metadata": {},
   "outputs": [
    {
     "name": "stderr",
     "output_type": "stream",
     "text": [
      "C:\\ProgramData\\anaconda3\\Lib\\site-packages\\seaborn\\_oldcore.py:1119: FutureWarning: use_inf_as_na option is deprecated and will be removed in a future version. Convert inf values to NaN before operating instead.\n",
      "  with pd.option_context('mode.use_inf_as_na', True):\n"
     ]
    },
    {
     "data": {
      "image/png": "[encoded data removed]",
      "text/plain": [
       "<Figure size 640x480 with 1 Axes>"
      ]
     },
     "metadata": {},
     "output_type": "display_data"
    }
   ],
   "source": [
    "# Distribution des salaires en USD\n",
    "sns.histplot(df['salary_in_usd'], kde=True)\n",
    "plt.title('Distribution des Salaires en USD')\n",
    "plt.xlabel('Salaire (USD)')\n",
    "plt.ylabel('Fréquence')\n",
    "plt.show()"
   ]
  },
  {
   "cell_type": "markdown",
   "id": "1d43c466-cce8-4bf8-bb04-508105872bef",
   "metadata": {},
   "source": [
    "On remarque qu'il y a une forte influence de donnée sur les salaires autour de 130 000 dollars par année"
   ]
  },
  {
   "cell_type": "code",
   "execution_count": 5,
   "id": "59ab1534",
   "metadata": {},
   "outputs": [
    {
     "name": "stdout",
     "output_type": "stream",
     "text": [
      "\n",
      "Pays concernés par l'étude :\n",
      "['ES' 'US' 'CA' 'DE' 'GB' 'NG' 'IN' 'HK' 'NL' 'CH' 'CF' 'FR' 'FI' 'UA'\n",
      " 'IE' 'IL' 'GH' 'CO' 'SG' 'AU' 'SE' 'SI' 'MX' 'BR' 'PT' 'RU' 'TH' 'HR'\n",
      " 'VN' 'EE' 'AM' 'BA' 'KE' 'GR' 'MK' 'LV' 'RO' 'PK' 'IT' 'MA' 'PL' 'AL'\n",
      " 'AR' 'LT' 'AS' 'CR' 'IR' 'BS' 'HU' 'AT' 'SK' 'CZ' 'TR' 'PR' 'DK' 'BO'\n",
      " 'PH' 'BE' 'ID' 'EG' 'AE' 'LU' 'MY' 'HN' 'JP' 'DZ' 'IQ' 'CN' 'NZ' 'CL'\n",
      " 'MD' 'MT']\n"
     ]
    }
   ],
   "source": [
    "# liste des pays concerné par l'étude \n",
    "pays_list = df['company_location'].unique()  \n",
    "print(\"\\nPays concernés par l'étude :\")\n",
    "print(pays_list)"
   ]
  },
  {
   "cell_type": "markdown",
   "id": "83c40fc6-c183-4f50-a167-2815a63de92b",
   "metadata": {},
   "source": [
    "Voici la liste des localisations des entreprise avec les initiales des pays "
   ]
  },
  {
   "cell_type": "code",
   "execution_count": 18,
   "id": "fa1ccca8",
   "metadata": {},
   "outputs": [
    {
     "name": "stdout",
     "output_type": "stream",
     "text": [
      "\n",
      "Salaire moyen par rôle :\n",
      "job_title\n",
      "3D Computer Vision Researcher     21352.25\n",
      "AI Developer                     136666.09\n",
      "AI Programmer                     55000.00\n",
      "AI Scientist                     110120.88\n",
      "Analytics Engineer               152368.63\n",
      "                                   ...    \n",
      "Research Engineer                163108.38\n",
      "Research Scientist               161214.20\n",
      "Software Data Engineer            62510.00\n",
      "Staff Data Analyst                15000.00\n",
      "Staff Data Scientist             105000.00\n",
      "Name: salary_in_usd, Length: 93, dtype: float64\n",
      "\n",
      "Salaire moyen par pays :\n",
      "company_location\n",
      "AE    100000.00\n",
      "AL     10000.00\n",
      "AM     50000.00\n",
      "AR     25000.00\n",
      "AS     29351.00\n",
      "        ...    \n",
      "TH     23064.33\n",
      "TR     19058.00\n",
      "UA     57850.00\n",
      "US    151822.01\n",
      "VN     12000.00\n",
      "Name: salary_in_usd, Length: 72, dtype: float64\n",
      "\n",
      "Salaire moyen par niveau d'expérience :\n",
      "experience_level\n",
      "EN     78546.28\n",
      "EX    194930.93\n",
      "MI    104525.94\n",
      "SE    153051.07\n",
      "Name: salary_in_usd, dtype: float64\n"
     ]
    }
   ],
   "source": [
    "#Salaire moyen par rôle\n",
    "salaire_par_role = df.groupby('job_title')['salary_in_usd'].mean()  \n",
    "print(\"\\nSalaire moyen par rôle :\")\n",
    "print(round(salaire_par_role,2))\n",
    "\n",
    "# Salaire moyen par pays\n",
    "salaire_par_pays = df.groupby('company_location')['salary_in_usd'].mean()  \n",
    "print(\"\\nSalaire moyen par pays :\")\n",
    "print(round(salaire_par_pays,2))\n",
    "\n",
    "# Salaires moyens par niveau d'expérience\n",
    "salaire_par_experience = df.groupby('experience_level')['salary_in_usd'].mean() \n",
    "print(\"\\nSalaire moyen par niveau d'expérience :\")\n",
    "print(round(salaire_par_experience,2))"
   ]
  },
  {
   "cell_type": "markdown",
   "id": "e6905f1e-56b8-4daa-a4db-07b1bac634f4",
   "metadata": {},
   "source": [
    "Les salaires moyens varient énormément en fonction du rôle, du pays et du niveau d'expérience. \n",
    "Par exemple, un AI Developer gagne en moyenne 136 666 USD, tandis qu'un 3D Computer Vision Researcher touche environ 21 352 USD. \n",
    "Concernant les pays, les États-Unis se démarquent avec un salaire moyen de 151 822 USD, alors que certains pays comme l'Albanie (10 000 USD) ou le Vietnam (12 000 USD) sont beaucoup plus bas. \n",
    "Enfin, les niveaux d'expérience montrent également des écarts importants, avec un salaire moyen de 194 930 USD pour les experts (EX) et 78 546 USD pour les débutants (EN)."
   ]
  },
  {
   "cell_type": "markdown",
   "id": "5fed3aef",
   "metadata": {},
   "source": [
    "#### Question 2 :\n",
    "Nous Souhaitons :\n",
    "\n",
    "1. Filtrer les salaires pour un pays donné (ex : US)\n",
    "2. Connaitre les top 5 des entreprises qui paient le plus\n",
    "\n",
    "3. Filtrage et agrégation:\n",
    "    - Afficher tous les employés dont le salaire est supérieur à 100 000 USD, ainsi que leur rôle.\n",
    "    - Pays avec la plus forte proportion de télétravail (remote_ratio = 100)\n",
    "       \n",
    "4. Requêtes conditionnelles: \n",
    "    - Salaire moyen des employés à distance (100%)\n",
    "    - Comparer salaires moyens pour deux catégories\n",
    "        \n",
    "5. Ajouter une colonne pour les fourchettes de salaires\n",
    "6. Corrélations : Relation entre télétravail et salaire: \n",
    " -\n",
    "7. Salaire moyen par taille d'entreprise \n",
    "8. faire un tableau croisé : Moyenne des salaires par niveau d'expérience et télétravail"
   ]
  },
  {
   "cell_type": "code",
   "execution_count": 12,
   "id": "057e12e8",
   "metadata": {},
   "outputs": [
    {
     "name": "stdout",
     "output_type": "stream",
     "text": [
      "                     job_title  salary_in_usd\n",
      "1                  ML Engineer          30000\n",
      "2                  ML Engineer          25500\n",
      "5            Applied Scientist         222200\n",
      "6            Applied Scientist         136000\n",
      "9               Data Scientist         147100\n",
      "...                        ...            ...\n",
      "3749           Data Specialist         165000\n",
      "3750            Data Scientist         412000\n",
      "3751  Principal Data Scientist         151000\n",
      "3752            Data Scientist         105000\n",
      "3753     Business Data Analyst         100000\n",
      "\n",
      "[3004 rows x 2 columns]\n"
     ]
    }
   ],
   "source": [
    "# Filtrer les salaires pour un pays donné (ex : US)\n",
    "df_us = df[df['employee_residence'] == 'US']\n",
    "print(df_us[['job_title', 'salary_in_usd']])"
   ]
  },
  {
   "cell_type": "markdown",
   "id": "0f8504f7-b7b3-4008-a3fa-75f2fe47cad1",
   "metadata": {},
   "source": [
    "Voici la liste des salaires par pays de résidence des employés des US"
   ]
  },
  {
   "cell_type": "code",
   "execution_count": 30,
   "id": "6be2ec47",
   "metadata": {},
   "outputs": [
    {
     "name": "stdout",
     "output_type": "stream",
     "text": [
      "company_location\n",
      "IL    271446.0\n",
      "PR    167500.0\n",
      "US    151822.0\n",
      "RU    140333.0\n",
      "CA    131918.0\n",
      "Name: salary_in_usd, dtype: float64\n"
     ]
    }
   ],
   "source": [
    "# Top 5 des entreprises qui paient le plus\n",
    "top_5_companies = df.groupby('company_location')['salary_in_usd'].mean().sort_values(ascending=False).head(5).round()\n",
    "print(top_5_companies)"
   ]
  },
  {
   "cell_type": "markdown",
   "id": "5ea99811-67d2-47f7-9209-e6db3351023b",
   "metadata": {},
   "source": [
    " Voici le top 5 des moyennes des salaires dans le monde "
   ]
  },
  {
   "cell_type": "code",
   "execution_count": 20,
   "id": "10d4d3d4",
   "metadata": {},
   "outputs": [
    {
     "name": "stdout",
     "output_type": "stream",
     "text": [
      "                               job_title  salary_in_usd\n",
      "3                         Data Scientist         175000\n",
      "4                         Data Scientist         120000\n",
      "5                      Applied Scientist         222200\n",
      "6                      Applied Scientist         136000\n",
      "7                         Data Scientist         219000\n",
      "...                                  ...            ...\n",
      "3747  Applied Machine Learning Scientist         423000\n",
      "3749                     Data Specialist         165000\n",
      "3750                      Data Scientist         412000\n",
      "3751            Principal Data Scientist         151000\n",
      "3752                      Data Scientist         105000\n",
      "\n",
      "[2665 rows x 2 columns]\n",
      "Salaire moyen des employés à distance : 136481\n"
     ]
    }
   ],
   "source": [
    "# Filtrer les données\n",
    "# Rôles avec un salaire moyen supérieur à 100,000\n",
    "high_salary_employees = df[df['salary_in_usd'] > 100000][['job_title', 'salary_in_usd']]\n",
    "print(high_salary_employees)\n",
    "# Pays avec la plus forte proportion de télétravail (remote_ratio = 100)\n",
    "remote_employees = df[df['remote_ratio'] == 100]\n",
    "average_salary_remote = remote_employees['salary_in_usd'].mean()\n",
    "print(f\"Salaire moyen des employés à distance : {round(average_salary_remote)}\")"
   ]
  },
  {
   "cell_type": "code",
   "execution_count": 21,
   "id": "3d3e19de",
   "metadata": {},
   "outputs": [
    {
     "name": "stdout",
     "output_type": "stream",
     "text": [
      "remote_ratio\n",
      "0      144316.202288\n",
      "50      78400.687831\n",
      "100    136481.452830\n",
      "Name: salary_in_usd, dtype: float64\n"
     ]
    }
   ],
   "source": [
    "# Requêtes conditionnelles\n",
    "# Salaire moyen des employés à distance (100%)\n",
    "\n",
    "# Comparer salaires moyens pour deux catégories\n",
    "average_salary_comparison = df.groupby('remote_ratio')['salary_in_usd'].mean()\n",
    "print(average_salary_comparison)\n"
   ]
  },
  {
   "cell_type": "markdown",
   "id": "44300b09-a348-456e-adfd-eb30ca8baae9",
   "metadata": {},
   "source": [
    "Le salaire moyen des employés en fonction de leur rapport au travail à distance (0 = sur place; 50 = moitié sur place moitieren télétravail; 100 = à distance)"
   ]
  },
  {
   "cell_type": "code",
   "execution_count": 22,
   "id": "7d72271b",
   "metadata": {},
   "outputs": [
    {
     "name": "stdout",
     "output_type": "stream",
     "text": [
      "   salary_in_usd       salary_range\n",
      "0          85847   50 000 - 100 000\n",
      "1          30000           < 50 000\n",
      "2          25500           < 50 000\n",
      "3         175000           150 000+\n",
      "4         120000  100 000 - 150 000\n"
     ]
    }
   ],
   "source": [
    "# Ajouter une colonne pour les fourchettes de salaires\n",
    "\n",
    "def salary_range(salary):\n",
    "    if salary < 50000:\n",
    "        return '< 50 000'\n",
    "    elif salary < 100000:\n",
    "        return '50 000 - 100 000'\n",
    "    elif salary < 150000:\n",
    "        return '100 000 - 150 000'\n",
    "    else:\n",
    "        return '150 000+'\n",
    "\n",
    "df['salary_range'] = df['salary_in_usd'].apply(salary_range)\n",
    "print(df[['salary_in_usd', 'salary_range']].head())"
   ]
  },
  {
   "cell_type": "markdown",
   "id": "b6076d75-d15b-4188-b372-c5b59166be30",
   "metadata": {},
   "source": [
    "Le salaire par personne et la tranche dans laquelle se situe leur salaire"
   ]
  },
  {
   "cell_type": "code",
   "execution_count": 23,
   "id": "08ebd32f",
   "metadata": {},
   "outputs": [
    {
     "name": "stdout",
     "output_type": "stream",
     "text": [
      "               remote_ratio  salary_in_usd\n",
      "remote_ratio       1.000000      -0.064171\n",
      "salary_in_usd     -0.064171       1.000000\n"
     ]
    }
   ],
   "source": [
    "# Analyse des corrélations\n",
    "# Relation entre télétravail et salaire\n",
    "correlation_remote_salary = df[['remote_ratio', 'salary_in_usd']].corr()\n",
    "print(correlation_remote_salary)\n"
   ]
  },
  {
   "cell_type": "markdown",
   "id": "96f566b8-d707-4acd-acc4-e275778773a5",
   "metadata": {},
   "source": [
    "La corrélation entre le ratio de télétravail et le salaire"
   ]
  },
  {
   "cell_type": "code",
   "execution_count": 25,
   "id": "a024d154",
   "metadata": {},
   "outputs": [
    {
     "name": "stdout",
     "output_type": "stream",
     "text": [
      "company_size\n",
      "L    118300.982379\n",
      "M    143130.548367\n",
      "S     78226.682432\n",
      "Name: salary_in_usd, dtype: float64\n"
     ]
    }
   ],
   "source": [
    "# Salaire moyen par taille d'entreprise\n",
    "average_salary_by_company_size = df.groupby('company_size')['salary_in_usd'].mean()\n",
    "print(average_salary_by_company_size)"
   ]
  },
  {
   "cell_type": "markdown",
   "id": "d8d20cb5-b100-460e-82e0-0be1d0a78b4d",
   "metadata": {},
   "source": [
    "Le salaire moyen en fonction de la taille de l'entreprise (S= petite entreprise; M= moyenne entreprise; L= grande entreprise)"
   ]
  },
  {
   "cell_type": "code",
   "execution_count": 32,
   "id": "b167d883",
   "metadata": {},
   "outputs": [
    {
     "name": "stdout",
     "output_type": "stream",
     "text": [
      "Tableau croisé des salaires :\n",
      " remote_ratio           0         50        100\n",
      "experience_level                              \n",
      "EN                104582.0   64006.0   65040.0\n",
      "EX                182436.0  139030.0  214837.0\n",
      "MI                116723.0   74214.0   96803.0\n",
      "SE                154024.0   98438.0  154022.0\n"
     ]
    }
   ],
   "source": [
    "# Tableaux croisés\n",
    "# Moyenne des salaires par niveau d'expérience et télétravail\n",
    "salary_by_experience_remote = df.pivot_table(\n",
    "    values='salary_in_usd', \n",
    "    index='experience_level', \n",
    "    columns='remote_ratio', \n",
    "    aggfunc='mean'\n",
    ").round()\n",
    "print(\"Tableau croisé des salaires :\\n\",salary_by_experience_remote)"
   ]
  },
  {
   "cell_type": "markdown",
   "id": "f8a80117-7784-490f-80a3-2da2a294e031",
   "metadata": {},
   "source": [
    "La moyenne des salire en fonction du niveau d'experience et du ratio de télétravail (ex: un débutant (EN) qui travail completement sur place gagnera en moyenne 104 582 $)"
   ]
  }
 ],
 "metadata": {
  "kernelspec": {
   "display_name": "Python 3 (ipykernel)",
   "language": "python",
   "name": "python3"
  },
  "language_info": {
   "codemirror_mode": {
    "name": "ipython",
    "version": 3
   },
   "file_extension": ".py",
   "mimetype": "text/x-python",
   "name": "python",
   "nbconvert_exporter": "python",
   "pygments_lexer": "ipython3",
   "version": "3.11.7"
  }
 },
 "nbformat": 4,
 "nbformat_minor": 5
}
